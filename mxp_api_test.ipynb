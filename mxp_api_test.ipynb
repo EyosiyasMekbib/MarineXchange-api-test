{
 "cells": [
  {
   "attachments": {},
   "cell_type": "markdown",
   "metadata": {},
   "source": [
    "## Connect with MXP api"
   ]
  },
  {
   "cell_type": "code",
   "execution_count": 2,
   "metadata": {},
   "outputs": [
    {
     "name": "stdout",
     "output_type": "stream",
     "text": [
      "Ver: 2.4.0.25750\n",
      "DataSource: localhost\\MXPEcommerce\n"
     ]
    }
   ],
   "source": [
    "from zeep import Client\n",
    "\n",
    "wsdl_url = 'http://test.mymxp.com/cgi-bin/MarineXchangeEComWebService2.exe/wsdl/IMarineXchangeECommerce'\n",
    "client = Client(wsdl=wsdl_url)\n",
    "\n",
    "iWS = client\n",
    "result = iWS.service.ServiceCheck()\n",
    "\n",
    "print(result)"
   ]
  },
  {
   "attachments": {},
   "cell_type": "markdown",
   "metadata": {},
   "source": [
    "## fetch PO header for\n",
    "https://www.mymxp.com/x/?CDCA743BC3314EFBA11C128F9992C66A#d1687666366158"
   ]
  },
  {
   "cell_type": "code",
   "execution_count": 3,
   "metadata": {},
   "outputs": [
    {
     "name": "stdout",
     "output_type": "stream",
     "text": [
      "PO Header:\n",
      "{\n",
      "    'MXPClientID': 24,\n",
      "    'POLoginCode': 'CDCA743BC3314EFBA11C128F9992C66A',\n",
      "    'PODocGUID': '{CDCA743B-C331-4EFB-A11C-128F9992C66A}',\n",
      "    'PONumber': 'VAL-REQ000352/PO03',\n",
      "    'PODescription': 'SST21 Emergency Reorder Durables Restaurant',\n",
      "    'Currency': 'Euro',\n",
      "    'POStatus': 'Confirmed',\n",
      "    'PORevisionNumber': 1,\n",
      "    'VendorName': 'MAVEKO Gmbh',\n",
      "    'VendorSiteName': 'Office (General)',\n",
      "    'VendorContactPerson': 'Ines Brauch',\n",
      "    'VendorContactPersonEMail': 'info@maveko.de',\n",
      "    'VendorAddress1': 'Rissenerstrasse 106',\n",
      "    'VendorAddress2': None,\n",
      "    'VendorCity': 'Wedel',\n",
      "    'VendorPostalCode': 'Germany 22880',\n",
      "    'VendorCountry': None,\n",
      "    'POSentByPersonCompany': 'Viking Catering AG CH',\n",
      "    'POSentByPerson': 'Stefan Hohenegg',\n",
      "    'POSentByPersonPhone': None,\n",
      "    'POSentByPersonEMail': 'stefan.hohenegg@vikingcruises.com',\n",
      "    'PODestinationName': 'Viking Vali',\n",
      "    'DestinationDeliveryPlace': 'Wesel (Viking)',\n",
      "    'DeliverTo': 'Consolidator in Hofkirchen',\n",
      "    'DeliveryAddress1': 'Xaver Troiber e.K.',\n",
      "    'DeliveryAddress2': 'Office (General)',\n",
      "    'DeliveryAddress3': 'Vilshofener Strasse 31',\n",
      "    'DeliveryAddress4': None,\n",
      "    'DeliveryAddress5': None,\n",
      "    'DeliveryAddress6': 'Hofkirchen,  94544',\n",
      "    'DeliveryAddress7': 'Germany',\n",
      "    'DeliveryAddress8': 'Josef Baierl, 00498545/179249',\n",
      "    'DeliveryAddress9': 'josef.baierl@troiber.de',\n",
      "    'DeliveryInstructions': 'Master of the Viking Vali as ship stores in transit',\n",
      "    'DeliverGoodsBy': 'on 28-Jul-2021 at 08:00',\n",
      "    'POSentDate': '2021-07-26',\n",
      "    'POConfirmationDate': '2021-07-26',\n",
      "    'POConfirmedBy': 'Fiona Kulzer',\n",
      "    'FreightTerms': None,\n",
      "    'RequestedShippingMethod': 'Least expensive',\n",
      "    'SentInvoiceAddress1': 'Viking Catering AG CH',\n",
      "    'SentInvoiceAddress2': 'Schäferweg 20',\n",
      "    'SentInvoiceAddress3': None,\n",
      "    'SentInvoiceAddress4': 'Basel',\n",
      "    'SentInvoiceAddress5': 'Basel 4057',\n",
      "    'SentInvoiceAddress6': 'Switzerland',\n",
      "    'SentInvoiceAddress7': 'VAT number: CHE-106.837.385',\n",
      "    'InvoiceInstructions': None,\n",
      "    'PaymentTerms': 'NET 30 days',\n",
      "    'POTermsAndConditions': None,\n",
      "    'CommentToVendor': \"The following record(s) were modified [26-Jul-2021, 10:54]:\\nLine 1 item 'Serving Board, Olive Wood, Nature Cut, no Bark', Quantity was changed from 10 to 12\\nLine 1 item 'Serving Board, Olive Wood, Nature Cut, no Bark', Unit cost was changed from 6.350 to 6.660\\nLine 2 was added\\n\",\n",
      "    'CommentFromVendor': None,\n",
      "    'RecordCreated': '2021-07-21 13:26:22',\n",
      "    'ContactID': '10000200',\n",
      "    'DeliveryDateToDestination': '4-Aug-2021',\n",
      "    'DeliveryConfirmedByPerson': None,\n",
      "    'DeliveryConfirmedDate': None,\n",
      "    'DocTypeID': '7',\n",
      "    'DocDeptName': 'Hotel Operations'\n",
      "}\n"
     ]
    }
   ],
   "source": [
    "po_login_code = 'CDCA743BC3314EFBA11C128F9992C66A'\n",
    "user_full_name = 'Bekele'\n",
    "\n",
    "po_header = iWS.service.GetPOHeader(po_login_code, user_full_name)\n",
    "\n",
    "print(\"PO Header:\")\n",
    "print(po_header)\n"
   ]
  },
  {
   "attachments": {},
   "cell_type": "markdown",
   "metadata": {},
   "source": [
    "## Fetch Purchase order details for \n",
    "https://www.mymxp.com/x/?CDCA743BC3314EFBA11C128F9992C66A#d1687666366158"
   ]
  },
  {
   "cell_type": "code",
   "execution_count": 4,
   "metadata": {},
   "outputs": [
    {
     "name": "stdout",
     "output_type": "stream",
     "text": [
      "\n",
      "PO Details:\n",
      "{\n",
      "    'PODocGUID': '{CDCA743B-C331-4EFB-A11C-128F9992C66A}',\n",
      "    'PODetailGUID': '{E9540A07-3035-4C67-920B-5269E714C919}',\n",
      "    'LineNumber': 1,\n",
      "    'ItemCode': '240601011',\n",
      "    'ItemName': 'Serving Board, Olive Wood, Nature Cut, no Bark',\n",
      "    'ItemSpec': None,\n",
      "    'ItemPackingSpec': 'Pack= 1 Each',\n",
      "    'UOM': 'Each',\n",
      "    'ManufacturerName': None,\n",
      "    'ManufacturerReferenceNumber': None,\n",
      "    'VendorReferenceNumber': None,\n",
      "    'QuantityOrdered': 12.0,\n",
      "    'QuantityReceived': 0.0,\n",
      "    'UnitPrice': 6.66,\n",
      "    'TotalPrice': 79.92,\n",
      "    'CommentPurchasing': None,\n",
      "    'RecordCreated': '2021-07-21 13:26:23',\n",
      "    'GLAccountName': 'Durables',\n",
      "    'DeliveryDate': None,\n",
      "    'DeliveryQty': 0.0,\n",
      "    'DeliveryComment': None,\n",
      "    'GeneralSpec': 'All Taste Of Events',\n",
      "    'OfferedGeneralSpec': 'All Taste Of Events',\n",
      "    'QualitySpec': None,\n",
      "    'ManufacturerRefNo': None,\n",
      "    'OfferedQualitySpec': None,\n",
      "    'OfferedManufacturerName': None,\n",
      "    'OfferedManufacturerRefNo': None,\n",
      "    'OfferedSupplierRefNo': None,\n",
      "    'MeasurementUnit': 25,\n",
      "    'MeasurementAmount': 1.0,\n",
      "    'MeasurementVol': 25,\n",
      "    'PackingUnitName': 'Each',\n",
      "    'PackingUnitID': 82,\n",
      "    'PackingUnitQuantity': 1.0,\n",
      "    'InvoiceUnitID': 25,\n",
      "    'InvoiceUnitQuantity': 1.0,\n",
      "    'OfferedMeasurementUnit': 25,\n",
      "    'OfferedMeasurementAmount': 1.0,\n",
      "    'OfferedMeasurementVol': 25,\n",
      "    'OfferedPackingUnitID': 82,\n",
      "    'OfferedPackingUnitQuantity': 1.0,\n",
      "    'OfferedInvoiceUnitID': 25,\n",
      "    'OfferedInvoiceUnitQuantity': 1.0,\n",
      "    'OfferedComment': None,\n",
      "    'OfferedUnitPrice': 6.66,\n",
      "    'OfferedUnitQuantity': 12.0\n",
      "}\n",
      "{\n",
      "    'PODocGUID': '{CDCA743B-C331-4EFB-A11C-128F9992C66A}',\n",
      "    'PODetailGUID': '{BEECB1C6-9785-4C3B-B63E-57E4D4708011}',\n",
      "    'LineNumber': 2,\n",
      "    'ItemCode': '280101764',\n",
      "    'ItemName': 'Transportation / Shipping',\n",
      "    'ItemSpec': None,\n",
      "    'ItemPackingSpec': 'Each= 1 x 1 Each Drum',\n",
      "    'UOM': 'Each',\n",
      "    'ManufacturerName': 'TRANSPORT',\n",
      "    'ManufacturerReferenceNumber': None,\n",
      "    'VendorReferenceNumber': None,\n",
      "    'QuantityOrdered': 1.0,\n",
      "    'QuantityReceived': 0.0,\n",
      "    'UnitPrice': 7.5,\n",
      "    'TotalPrice': 7.5,\n",
      "    'CommentPurchasing': None,\n",
      "    'RecordCreated': '2021-07-26 10:54:42',\n",
      "    'GLAccountName': 'Freight',\n",
      "    'DeliveryDate': None,\n",
      "    'DeliveryQty': 0.0,\n",
      "    'DeliveryComment': None,\n",
      "    'GeneralSpec': 'TRANSPORT COST',\n",
      "    'OfferedGeneralSpec': 'TRANSPORT COST',\n",
      "    'QualitySpec': 'TRANSPORT COST',\n",
      "    'ManufacturerRefNo': None,\n",
      "    'OfferedQualitySpec': 'TRANSPORT COST',\n",
      "    'OfferedManufacturerName': 'TRANSPORT',\n",
      "    'OfferedManufacturerRefNo': None,\n",
      "    'OfferedSupplierRefNo': None,\n",
      "    'MeasurementUnit': 24,\n",
      "    'MeasurementAmount': 1.0,\n",
      "    'MeasurementVol': 25,\n",
      "    'PackingUnitName': 'Each',\n",
      "    'PackingUnitID': 25,\n",
      "    'PackingUnitQuantity': 1.0,\n",
      "    'InvoiceUnitID': 25,\n",
      "    'InvoiceUnitQuantity': 1.0,\n",
      "    'OfferedMeasurementUnit': 24,\n",
      "    'OfferedMeasurementAmount': 1.0,\n",
      "    'OfferedMeasurementVol': 25,\n",
      "    'OfferedPackingUnitID': 25,\n",
      "    'OfferedPackingUnitQuantity': 1.0,\n",
      "    'OfferedInvoiceUnitID': 25,\n",
      "    'OfferedInvoiceUnitQuantity': 1.0,\n",
      "    'OfferedComment': None,\n",
      "    'OfferedUnitPrice': 7.5,\n",
      "    'OfferedUnitQuantity': 1.0\n",
      "}\n"
     ]
    }
   ],
   "source": [
    "po_details = iWS.service.GetPODetails(po_login_code)\n",
    "\n",
    "print(\"\\nPO Details:\")\n",
    "for detail in po_details:\n",
    "    print(detail)"
   ]
  },
  {
   "attachments": {},
   "cell_type": "markdown",
   "metadata": {},
   "source": []
  }
 ],
 "metadata": {
  "kernelspec": {
   "display_name": "Python 3",
   "language": "python",
   "name": "python3"
  },
  "language_info": {
   "codemirror_mode": {
    "name": "ipython",
    "version": 3
   },
   "file_extension": ".py",
   "mimetype": "text/x-python",
   "name": "python",
   "nbconvert_exporter": "python",
   "pygments_lexer": "ipython3",
   "version": "3.10.11"
  },
  "orig_nbformat": 4
 },
 "nbformat": 4,
 "nbformat_minor": 2
}
